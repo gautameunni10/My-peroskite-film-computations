{
 "cells": [
  {
   "cell_type": "code",
   "execution_count": null,
   "id": "2c7470a1",
   "metadata": {},
   "outputs": [],
   "source": [
    "import numpy as np\n",
    "\n",
    "class Grid():\n",
    "    \n",
    "    def __init__(self, params):\n",
    "    #Define class variables from constructor class objects.\n",
    "        N = params.N\n",
    "        NE = params.NE\n",
    "        NH = params.NH\n",
    "        st = params.st\n",
    "        wE = params.wE\n",
    "        wH = params.wH\n",
    "        \n",
    "        # Calculate spatial mesh for single-layer and three-layer models.\n",
    "        # ’tanh’ grid spacing.\n",
    "        x = np.linspace(0, 1, N+1)\n",
    "        self.x = (np.tanh(st*(2*x-1))/np.tanh(st)+1)/2\n",
    "        xE = np.linspace(-wE, 0, NE+1)\n",
    "        self.xE = wE*(np.tanh(st*(2*xE/wE+1))/np.tanh(st)+1)/2\n",
    "        xH = np.linspace(1, 1+wH, NH+1)\n",
    "        self.xH = 1 + wH*(np.tanh(st*(2*(xH-1)/wH-1))/np.tanh(st)+1)/2\n",
    "        \n",
    "        #Differencing vectors.\n",
    "        self.dx = np.diff(self.x)\n",
    "        self.dxE = np.diff(self.xE)\n",
    "        self.dxH = np.diff(self.xH)\n",
    "\n",
    "        #The grid points at the interfaces are already included in the\n",
    "        perovskite layer grid.\n",
    "        self.xE = self.xE[0:-1]\n",
    "        self.xH = self.xH[1:]"
   ]
  }
 ],
 "metadata": {
  "kernelspec": {
   "display_name": "Python 3 (ipykernel)",
   "language": "python",
   "name": "python3"
  },
  "language_info": {
   "codemirror_mode": {
    "name": "ipython",
    "version": 3
   },
   "file_extension": ".py",
   "mimetype": "text/x-python",
   "name": "python",
   "nbconvert_exporter": "python",
   "pygments_lexer": "ipython3",
   "version": "3.10.6"
  }
 },
 "nbformat": 4,
 "nbformat_minor": 5
}
