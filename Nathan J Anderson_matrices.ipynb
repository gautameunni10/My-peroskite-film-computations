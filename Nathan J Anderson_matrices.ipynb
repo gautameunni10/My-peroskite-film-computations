{
 "cells": [
  {
   "cell_type": "code",
   "execution_count": null,
   "id": "d8b842bc",
   "metadata": {},
   "outputs": [],
   "source": [
    "from scipy.sparse import diags\n",
    "import numpy as np\n",
    "\n",
    "class Matrices():\n",
    "    \n",
    "    def __init__(self, params, grid):\n",
    "    #Define class variables from constructor class objects.\n",
    "    N = params.N\n",
    "    NE = params.NE\n",
    "    NH = params.NH\n",
    "    dx = grid.dx\n",
    "    dxE = grid.dxE\n",
    "    dxH = grid.dxH\n",
    "    \n",
    "    \"\"\" Arrays used to define the sub-diagonals [-1], main-diagonals\n",
    "    [0], and upper-diagonals [1] used in the instance variables. \"\"\"\n",
    "    diagonals_Av = np.array([np.zeros(N), np.ones(N+1), np.ones(N)], dtype=object)\n",
    "    diagonals_AvE = np.array([np.zeros(int(round(NE))), np.ones(int(round(NE))+1), np.ones(int(round(NE)))], dtype=object)diagonals_AvH = np.array([np.zeros(int(round(NH))), np.ones(int(round(NH+1))), np.ones(int(round(NH)))], dtype=object)\n",
    "\n",
    "    diagonals_Lo = np.array([np.append(dx[0:-1]/6, [0.0]), np.append(np.append([0.0], [(dx[0:-1]+dx[1:])/3]), [0.0]), np.append([0.0], dx[1:]/6)], dtype=object)\n",
    "    diagonals_LoE = np.array([np.append(dxE[0:-1]/6, [0.0]), np.append(np.append([0.0], [(dxE[0:-1]+dxE[1:])/3]), [0.0]), np.append([0.0], dxE[1:]/6)], dtype=object)\n",
    "    diagonals_LoH = np.array([np.append(dxH[0:-1]/6, [0.0]), np.append(np.append([0.0], [(dxH[0:-1]+dxH[1:])/3]), [0.0]), np.append([0.0], dxH[1:]/6)], dtype=object)\n",
    "    diagonals_Dx = np.array([0./dx, np.append([-1./dx], [0.0]), 1./dx], dtype=object)\n",
    "    diagonals_DxE = np.array([0./dxE, np.append([-1./dxE], [0.0]), 1./dxE], dtype=object)\n",
    "    diagonals_DxH = np.array([0./dxH, np.append([-1./dxH], [0.0]), 1./dxH], dtype=object)\n",
    "\n",
    "    #Averaging matrices.\n",
    "    self.Av = diags(diagonals_Av, [-1,0,1]).toarray()/2; self.Av = self.Av[0:N, 0:N+1]\n",
    "    self.AvE = diags(diagonals_AvE, [-1,0,1]).toarray()/2; self.AvE =self.AvE[0:int(round(NE)), 0:int(round(NE))+1]\n",
    "    self.AvH = diags(diagonals_AvH, [-1,0,1]).toarray()/2; self.AvH =self.AvH[0:int(round(NH)), 0:int(round(NH))+1]\n",
    "    self.Lo = diags(diagonals_Lo, [-1,0,1]).toarray(); self.Lo = self.Lo[1:N,0:N+1]\n",
    "    self.LoE = diags(diagonals_LoE, [-1,0,1]).toarray(); self.LoE = self.LoE[1:int(round(NE)),0:int(round(NE))+1]\n",
    "    self.LoH = diags(diagonals_LoH, [-1,0,1]).toarray(); self.LoH = self.LoH[1:int(round(NH)),0:int(round(NH))+1]\n",
    "\n",
    "    #Differencing matrices. \"\"\"\n",
    "    self.Dx = diags(diagonals_Dx, [-1,0,1]).toarray(); self.Dx = self.Dx[0:N,0:N+1];\n",
    "    self.DxE = diags(diagonals_DxE, [-1,0,1]).toarray(); self.DxE = self.DxE[0:int(round(NE)),0:int(round(NE))+1]\n",
    "    self.DxH = diags(diagonals_DxH, [-1,0,1]).toarray(); self.DxH = self.DxH[0:int(round(NH)),0:int(round(NH))+1]\n",
    "\n",
    "    #Vectors for constant cation vacancy and doping densities. \"\"\"\n",
    "    self.NN = (dx[1:]+dx[0:-1])/2\n",
    "    self.ddE = (dxE[1:]+dxE[0:-1])/2\n",
    "    self.ddH = (dxH[1:]+dxH[0:-1])/2\n"
   ]
  }
 ],
 "metadata": {
  "kernelspec": {
   "display_name": "Python 3 (ipykernel)",
   "language": "python",
   "name": "python3"
  },
  "language_info": {
   "codemirror_mode": {
    "name": "ipython",
    "version": 3
   },
   "file_extension": ".py",
   "mimetype": "text/x-python",
   "name": "python",
   "nbconvert_exporter": "python",
   "pygments_lexer": "ipython3",
   "version": "3.10.6"
  }
 },
 "nbformat": 4,
 "nbformat_minor": 5
}
